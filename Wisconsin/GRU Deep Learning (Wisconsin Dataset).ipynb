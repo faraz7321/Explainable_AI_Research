{
 "cells": [
  {
   "cell_type": "code",
   "execution_count": 14,
   "id": "2da9adc1",
   "metadata": {},
   "outputs": [],
   "source": [
    "import pandas as pd\n",
    "import numpy as np\n",
    "\n",
    "from sklearn.model_selection import train_test_split\n",
    "import tensorflow as tf\n",
    "from keras.models import Sequential\n",
    "from keras.layers import Dense, GRU, Flatten, LSTM, Input, TimeDistributed, Dropout,BatchNormalization\n",
    "from keras.layers import Activation\n",
    "from keras.layers.embeddings import Embedding\n",
    "from keras.preprocessing import sequence\n",
    "from tensorflow.keras.optimizers import Adam \n",
    "import matplotlib.pyplot as plt\n",
    "from sklearn.preprocessing import LabelEncoder, StandardScaler"
   ]
  },
  {
   "cell_type": "code",
   "execution_count": 15,
   "id": "1f5df922",
   "metadata": {},
   "outputs": [],
   "source": [
    "dataset = pd.read_csv('data.csv')\n",
    "y = dataset['Diagnosis'] # Dedendent Variable\n",
    "x = dataset.drop(['ID ','Diagnosis'], axis = 1) # Independent Variable\n",
    "dataset.iloc[:,1] = LabelEncoder().fit_transform(dataset.iloc[:,1].values)"
   ]
  },
  {
   "cell_type": "code",
   "execution_count": 16,
   "id": "100c34ea",
   "metadata": {},
   "outputs": [],
   "source": [
    "# Spliting the data into 75% training and 25% test\n",
    "\n",
    "X = dataset.iloc[:,2:32].values\n",
    "Y = dataset.iloc[:,1].values\n",
    "\n",
    "x_train, x_test, y_train, y_test = train_test_split(X, Y, test_size=0.25, random_state=0) # 75% Training 25% test"
   ]
  },
  {
   "cell_type": "code",
   "execution_count": 17,
   "id": "0da461c8",
   "metadata": {},
   "outputs": [
    {
     "name": "stdout",
     "output_type": "stream",
     "text": [
      "(426, 30) (143, 30)\n"
     ]
    }
   ],
   "source": [
    "# Scaling the data\n",
    "\n",
    "sc = StandardScaler()\n",
    "x_train = sc.fit_transform(x_train)\n",
    "x_test = sc.fit_transform(x_test)\n",
    "print(x_train.shape,x_test.shape)"
   ]
  },
  {
   "cell_type": "code",
   "execution_count": 18,
   "id": "8b8c7717",
   "metadata": {},
   "outputs": [
    {
     "name": "stdout",
     "output_type": "stream",
     "text": [
      "(426, 30, 1) (143, 30, 1)\n"
     ]
    }
   ],
   "source": [
    "#Reshaping the data\n",
    "\n",
    "x_train, x_test = x_train.reshape(426,30,1), x_test.reshape(143,30,1)\n",
    "print(x_train.shape,x_test.shape)"
   ]
  },
  {
   "cell_type": "code",
   "execution_count": 19,
   "id": "3924b5db",
   "metadata": {},
   "outputs": [
    {
     "name": "stdout",
     "output_type": "stream",
     "text": [
      "Model: \"sequential_1\"\n",
      "_________________________________________________________________\n",
      " Layer (type)                Output Shape              Param #   \n",
      "=================================================================\n",
      " gru_1 (GRU)                 (None, 30)                2970      \n",
      "                                                                 \n",
      " batch_normalization_2 (Batc  (None, 30)               120       \n",
      " hNormalization)                                                 \n",
      "                                                                 \n",
      " dropout_3 (Dropout)         (None, 30)                0         \n",
      "                                                                 \n",
      " batch_normalization_3 (Batc  (None, 30)               120       \n",
      " hNormalization)                                                 \n",
      "                                                                 \n",
      " dropout_4 (Dropout)         (None, 30)                0         \n",
      "                                                                 \n",
      " flatten_1 (Flatten)         (None, 30)                0         \n",
      "                                                                 \n",
      " dense_2 (Dense)             (None, 64)                1984      \n",
      "                                                                 \n",
      " dropout_5 (Dropout)         (None, 64)                0         \n",
      "                                                                 \n",
      " dense_3 (Dense)             (None, 1)                 65        \n",
      "                                                                 \n",
      "=================================================================\n",
      "Total params: 5,259\n",
      "Trainable params: 5,139\n",
      "Non-trainable params: 120\n",
      "_________________________________________________________________\n"
     ]
    }
   ],
   "source": [
    "epochs = 50\n",
    "model = Sequential()\n",
    "model.add(GRU(30, activation='tanh',recurrent_activation = 'sigmoid', input_shape=(30,1)))\n",
    "model.add(BatchNormalization())\n",
    "model.add(Dropout(0.2))\n",
    "\n",
    "#model.add(GRU(29, activation='tanh',recurrent_activation = 'sigmoid',input_shape=(29,1) ))\n",
    "model.add(BatchNormalization())\n",
    "model.add(Dropout(0.5))\n",
    "\n",
    "model.add(Flatten())\n",
    "model.add(Dense(64,activation='relu'))\n",
    "model.add(Dropout(0.5))\n",
    "\n",
    "model.add(Dense(1,activation='sigmoid'))\n",
    "model.summary()"
   ]
  },
  {
   "cell_type": "code",
   "execution_count": 20,
   "id": "a6d11a43",
   "metadata": {},
   "outputs": [],
   "source": [
    "model.compile(optimizer = 'adam', loss = 'binary_crossentropy', metrics = ['accuracy'])"
   ]
  },
  {
   "cell_type": "code",
   "execution_count": 21,
   "id": "fac664da",
   "metadata": {},
   "outputs": [
    {
     "name": "stdout",
     "output_type": "stream",
     "text": [
      "Epoch 1/50\n",
      "7/7 [==============================] - 2s 65ms/step - loss: 0.8711 - accuracy: 0.5469 - val_loss: 0.6812 - val_accuracy: 0.7902\n",
      "Epoch 2/50\n",
      "7/7 [==============================] - 0s 11ms/step - loss: 0.6692 - accuracy: 0.7042 - val_loss: 0.6509 - val_accuracy: 0.7902\n",
      "Epoch 3/50\n",
      "7/7 [==============================] - 0s 9ms/step - loss: 0.5439 - accuracy: 0.7465 - val_loss: 0.6246 - val_accuracy: 0.7902\n",
      "Epoch 4/50\n",
      "7/7 [==============================] - 0s 10ms/step - loss: 0.4922 - accuracy: 0.7606 - val_loss: 0.6025 - val_accuracy: 0.8042\n",
      "Epoch 5/50\n",
      "7/7 [==============================] - 0s 8ms/step - loss: 0.4749 - accuracy: 0.8146 - val_loss: 0.5821 - val_accuracy: 0.8182\n",
      "Epoch 6/50\n",
      "7/7 [==============================] - 0s 10ms/step - loss: 0.4115 - accuracy: 0.8521 - val_loss: 0.5632 - val_accuracy: 0.8322\n",
      "Epoch 7/50\n",
      "7/7 [==============================] - 0s 11ms/step - loss: 0.3962 - accuracy: 0.8638 - val_loss: 0.5444 - val_accuracy: 0.8392\n",
      "Epoch 8/50\n",
      "7/7 [==============================] - 0s 9ms/step - loss: 0.3507 - accuracy: 0.8756 - val_loss: 0.5268 - val_accuracy: 0.8601\n",
      "Epoch 9/50\n",
      "7/7 [==============================] - 0s 10ms/step - loss: 0.3502 - accuracy: 0.8685 - val_loss: 0.5040 - val_accuracy: 0.8811\n",
      "Epoch 10/50\n",
      "7/7 [==============================] - 0s 9ms/step - loss: 0.3145 - accuracy: 0.8732 - val_loss: 0.4757 - val_accuracy: 0.8671\n",
      "Epoch 11/50\n",
      "7/7 [==============================] - 0s 10ms/step - loss: 0.2962 - accuracy: 0.8944 - val_loss: 0.4475 - val_accuracy: 0.8601\n",
      "Epoch 12/50\n",
      "7/7 [==============================] - 0s 11ms/step - loss: 0.2950 - accuracy: 0.9038 - val_loss: 0.4247 - val_accuracy: 0.8601\n",
      "Epoch 13/50\n",
      "7/7 [==============================] - 0s 9ms/step - loss: 0.3020 - accuracy: 0.9038 - val_loss: 0.4111 - val_accuracy: 0.8601\n",
      "Epoch 14/50\n",
      "7/7 [==============================] - 0s 11ms/step - loss: 0.2524 - accuracy: 0.9038 - val_loss: 0.4000 - val_accuracy: 0.8601\n",
      "Epoch 15/50\n",
      "7/7 [==============================] - 0s 11ms/step - loss: 0.2474 - accuracy: 0.9249 - val_loss: 0.3943 - val_accuracy: 0.8601\n",
      "Epoch 16/50\n",
      "7/7 [==============================] - 0s 9ms/step - loss: 0.2445 - accuracy: 0.9108 - val_loss: 0.3885 - val_accuracy: 0.8601\n",
      "Epoch 17/50\n",
      "7/7 [==============================] - 0s 10ms/step - loss: 0.2380 - accuracy: 0.9061 - val_loss: 0.3792 - val_accuracy: 0.8601\n",
      "Epoch 18/50\n",
      "7/7 [==============================] - 0s 9ms/step - loss: 0.2569 - accuracy: 0.9202 - val_loss: 0.3771 - val_accuracy: 0.8741\n",
      "Epoch 19/50\n",
      "7/7 [==============================] - 0s 10ms/step - loss: 0.2022 - accuracy: 0.9272 - val_loss: 0.3538 - val_accuracy: 0.8811\n",
      "Epoch 20/50\n",
      "7/7 [==============================] - 0s 9ms/step - loss: 0.2147 - accuracy: 0.9296 - val_loss: 0.3411 - val_accuracy: 0.8741\n",
      "Epoch 21/50\n",
      "7/7 [==============================] - 0s 10ms/step - loss: 0.2026 - accuracy: 0.9366 - val_loss: 0.3296 - val_accuracy: 0.8671\n",
      "Epoch 22/50\n",
      "7/7 [==============================] - 0s 9ms/step - loss: 0.2531 - accuracy: 0.9225 - val_loss: 0.3220 - val_accuracy: 0.8671\n",
      "Epoch 23/50\n",
      "7/7 [==============================] - 0s 9ms/step - loss: 0.2029 - accuracy: 0.9272 - val_loss: 0.3118 - val_accuracy: 0.8671\n",
      "Epoch 24/50\n",
      "7/7 [==============================] - 0s 11ms/step - loss: 0.2141 - accuracy: 0.9272 - val_loss: 0.2974 - val_accuracy: 0.8671\n",
      "Epoch 25/50\n",
      "7/7 [==============================] - 0s 10ms/step - loss: 0.2151 - accuracy: 0.9249 - val_loss: 0.2887 - val_accuracy: 0.8741\n",
      "Epoch 26/50\n",
      "7/7 [==============================] - 0s 12ms/step - loss: 0.1730 - accuracy: 0.9413 - val_loss: 0.2810 - val_accuracy: 0.8811\n",
      "Epoch 27/50\n",
      "7/7 [==============================] - 0s 8ms/step - loss: 0.2033 - accuracy: 0.9296 - val_loss: 0.2744 - val_accuracy: 0.9021\n",
      "Epoch 28/50\n",
      "7/7 [==============================] - 0s 10ms/step - loss: 0.2249 - accuracy: 0.9178 - val_loss: 0.2673 - val_accuracy: 0.9021\n",
      "Epoch 29/50\n",
      "7/7 [==============================] - 0s 9ms/step - loss: 0.1960 - accuracy: 0.9507 - val_loss: 0.2591 - val_accuracy: 0.8741\n",
      "Epoch 30/50\n",
      "7/7 [==============================] - 0s 9ms/step - loss: 0.1942 - accuracy: 0.9319 - val_loss: 0.2533 - val_accuracy: 0.8811\n",
      "Epoch 31/50\n",
      "7/7 [==============================] - 0s 11ms/step - loss: 0.2212 - accuracy: 0.9343 - val_loss: 0.2468 - val_accuracy: 0.8881\n",
      "Epoch 32/50\n",
      "7/7 [==============================] - 0s 9ms/step - loss: 0.1811 - accuracy: 0.9390 - val_loss: 0.2426 - val_accuracy: 0.8811\n",
      "Epoch 33/50\n",
      "7/7 [==============================] - 0s 10ms/step - loss: 0.1824 - accuracy: 0.9272 - val_loss: 0.2385 - val_accuracy: 0.8881\n",
      "Epoch 34/50\n",
      "7/7 [==============================] - 0s 12ms/step - loss: 0.1874 - accuracy: 0.9413 - val_loss: 0.2371 - val_accuracy: 0.9091\n",
      "Epoch 35/50\n",
      "7/7 [==============================] - 0s 9ms/step - loss: 0.1736 - accuracy: 0.9484 - val_loss: 0.2319 - val_accuracy: 0.8951\n",
      "Epoch 36/50\n",
      "7/7 [==============================] - 0s 10ms/step - loss: 0.1774 - accuracy: 0.9460 - val_loss: 0.2278 - val_accuracy: 0.9021\n",
      "Epoch 37/50\n",
      "7/7 [==============================] - 0s 9ms/step - loss: 0.1917 - accuracy: 0.9390 - val_loss: 0.2213 - val_accuracy: 0.9091\n",
      "Epoch 38/50\n",
      "7/7 [==============================] - 0s 10ms/step - loss: 0.1718 - accuracy: 0.9484 - val_loss: 0.2167 - val_accuracy: 0.9021\n",
      "Epoch 39/50\n",
      "7/7 [==============================] - 0s 9ms/step - loss: 0.1732 - accuracy: 0.9390 - val_loss: 0.2098 - val_accuracy: 0.9161\n",
      "Epoch 40/50\n",
      "7/7 [==============================] - 0s 10ms/step - loss: 0.1830 - accuracy: 0.9390 - val_loss: 0.2052 - val_accuracy: 0.9161\n",
      "Epoch 41/50\n",
      "7/7 [==============================] - 0s 8ms/step - loss: 0.1815 - accuracy: 0.9531 - val_loss: 0.1984 - val_accuracy: 0.9161\n",
      "Epoch 42/50\n",
      "7/7 [==============================] - 0s 10ms/step - loss: 0.1753 - accuracy: 0.9413 - val_loss: 0.1927 - val_accuracy: 0.9231\n",
      "Epoch 43/50\n",
      "7/7 [==============================] - 0s 12ms/step - loss: 0.1678 - accuracy: 0.9460 - val_loss: 0.1904 - val_accuracy: 0.9231\n",
      "Epoch 44/50\n",
      "7/7 [==============================] - 0s 13ms/step - loss: 0.1801 - accuracy: 0.9413 - val_loss: 0.1859 - val_accuracy: 0.9161\n",
      "Epoch 45/50\n",
      "7/7 [==============================] - 0s 8ms/step - loss: 0.1722 - accuracy: 0.9507 - val_loss: 0.1817 - val_accuracy: 0.9231\n",
      "Epoch 46/50\n",
      "7/7 [==============================] - 0s 9ms/step - loss: 0.2075 - accuracy: 0.9225 - val_loss: 0.1775 - val_accuracy: 0.9231\n",
      "Epoch 47/50\n",
      "7/7 [==============================] - 0s 11ms/step - loss: 0.1468 - accuracy: 0.9507 - val_loss: 0.1732 - val_accuracy: 0.9231\n",
      "Epoch 48/50\n",
      "7/7 [==============================] - 0s 11ms/step - loss: 0.1650 - accuracy: 0.9484 - val_loss: 0.1686 - val_accuracy: 0.9301\n",
      "Epoch 49/50\n",
      "7/7 [==============================] - 0s 11ms/step - loss: 0.1525 - accuracy: 0.9554 - val_loss: 0.1665 - val_accuracy: 0.9231\n",
      "Epoch 50/50\n",
      "7/7 [==============================] - 0s 9ms/step - loss: 0.1680 - accuracy: 0.9413 - val_loss: 0.1652 - val_accuracy: 0.9161\n"
     ]
    }
   ],
   "source": [
    "history = model.fit(x_train, y_train, epochs = epochs, validation_data=(x_test, y_test), batch_size = 64)"
   ]
  },
  {
   "cell_type": "code",
   "execution_count": 22,
   "id": "416d4324",
   "metadata": {},
   "outputs": [],
   "source": [
    "#Plot training & validation accuracy values \n",
    "def plot_learningCurve(history, epoch):\n",
    "    epoch_range = range(1, epoch+1)\n",
    "    plt.plot(epoch_range, history.history['accuracy'])\n",
    "    plt.plot(epoch_range, history.history['val_accuracy'])\n",
    "    plt.title('Model Accuracy')\n",
    "    plt.ylabel('Accuracy')\n",
    "    plt.xlabel('Epoch')\n",
    "    plt.legend(['Train','Val'], loc='upper left')\n",
    "    plt.show()\n",
    "    \n",
    "    #Plot training and validation loss \n",
    "\n",
    "    plt.plot(epoch_range, history.history['loss'])\n",
    "    plt.plot(epoch_range, history.history['val_loss'])\n",
    "    plt.title('Model Loss')\n",
    "    plt.ylabel('Loss')\n",
    "    plt.xlabel('Epoch')\n",
    "    plt.legend(['Train','Val'], loc='upper left')\n",
    "    plt.show()"
   ]
  },
  {
   "cell_type": "code",
   "execution_count": 23,
   "id": "3a1f29d6",
   "metadata": {},
   "outputs": [
    {
     "data": {
      "text/plain": [
       "dict_keys(['loss', 'accuracy', 'val_loss', 'val_accuracy'])"
      ]
     },
     "execution_count": 23,
     "metadata": {},
     "output_type": "execute_result"
    }
   ],
   "source": [
    "history.history.keys()"
   ]
  },
  {
   "cell_type": "code",
   "execution_count": 24,
   "id": "cc1769e3",
   "metadata": {},
   "outputs": [
    {
     "name": "stdout",
     "output_type": "stream",
     "text": [
      "3/3 - 0s - loss: 0.1652 - accuracy: 0.9161 - 20ms/epoch - 7ms/step\n"
     ]
    },
    {
     "data": {
      "text/plain": [
       "[0.16524256765842438, 0.9160839319229126]"
      ]
     },
     "execution_count": 24,
     "metadata": {},
     "output_type": "execute_result"
    }
   ],
   "source": [
    "model.evaluate(x_test, y_test, batch_size=64, verbose=2)"
   ]
  },
  {
   "cell_type": "code",
   "execution_count": 25,
   "id": "a8f95001",
   "metadata": {},
   "outputs": [
    {
     "data": {
      "image/png": "[encoded data removed]",
      "text/plain": [
       "<Figure size 432x288 with 1 Axes>"
      ]
     },
     "metadata": {
      "needs_background": "light"
     },
     "output_type": "display_data"
    },
    {
     "data": {
      "image/png": "[encoded data removed]",
      "text/plain": [
       "<Figure size 432x288 with 1 Axes>"
      ]
     },
     "metadata": {
      "needs_background": "light"
     },
     "output_type": "display_data"
    }
   ],
   "source": [
    "plot_learningCurve(history, epochs)"
   ]
  },
  {
   "cell_type": "code",
   "execution_count": 26,
   "id": "660d065a",
   "metadata": {},
   "outputs": [
    {
     "ename": "AttributeError",
     "evalue": "module 'keras.utils' has no attribute 'Sequence'",
     "output_type": "error",
     "traceback": [
      "\u001b[1;31m---------------------------------------------------------------------------\u001b[0m",
      "\u001b[1;31mAttributeError\u001b[0m                            Traceback (most recent call last)",
      "\u001b[1;32m~\\AppData\\Local\\Temp/ipykernel_9008/890011986.py\u001b[0m in \u001b[0;36m<module>\u001b[1;34m\u001b[0m\n\u001b[1;32m----> 1\u001b[1;33m \u001b[1;32mimport\u001b[0m \u001b[0minnvestigate\u001b[0m\u001b[1;33m\u001b[0m\u001b[1;33m\u001b[0m\u001b[0m\n\u001b[0m\u001b[0;32m      2\u001b[0m \u001b[1;33m\u001b[0m\u001b[0m\n\u001b[0;32m      3\u001b[0m \u001b[0mmodell\u001b[0m \u001b[1;33m=\u001b[0m \u001b[0mmodel\u001b[0m\u001b[1;33m\u001b[0m\u001b[1;33m\u001b[0m\u001b[0m\n\u001b[0;32m      4\u001b[0m \u001b[1;33m\u001b[0m\u001b[0m\n\u001b[0;32m      5\u001b[0m \u001b[0manalyzer\u001b[0m \u001b[1;33m=\u001b[0m \u001b[0minnvestigate\u001b[0m\u001b[1;33m.\u001b[0m\u001b[0mcreate_analyzer\u001b[0m\u001b[1;33m(\u001b[0m\u001b[1;34m\"gradient\"\u001b[0m\u001b[1;33m,\u001b[0m \u001b[0mmodel\u001b[0m\u001b[1;33m)\u001b[0m\u001b[1;33m\u001b[0m\u001b[1;33m\u001b[0m\u001b[0m\n",
      "\u001b[1;32mC:\\ProgramData\\Anaconda3\\lib\\site-packages\\innvestigate\\__init__.py\u001b[0m in \u001b[0;36m<module>\u001b[1;34m\u001b[0m\n\u001b[0;32m      1\u001b[0m \u001b[1;33m\u001b[0m\u001b[0m\n\u001b[1;32m----> 2\u001b[1;33m \u001b[1;32mfrom\u001b[0m \u001b[1;33m.\u001b[0m \u001b[1;32mimport\u001b[0m \u001b[0manalyzer\u001b[0m\u001b[1;33m\u001b[0m\u001b[1;33m\u001b[0m\u001b[0m\n\u001b[0m\u001b[0;32m      3\u001b[0m \u001b[1;32mfrom\u001b[0m \u001b[1;33m.\u001b[0m\u001b[0manalyzer\u001b[0m \u001b[1;32mimport\u001b[0m \u001b[0mcreate_analyzer\u001b[0m\u001b[1;33m\u001b[0m\u001b[1;33m\u001b[0m\u001b[0m\n\u001b[0;32m      4\u001b[0m \u001b[1;32mfrom\u001b[0m \u001b[1;33m.\u001b[0m\u001b[0manalyzer\u001b[0m \u001b[1;32mimport\u001b[0m \u001b[0mNotAnalyzeableModelException\u001b[0m\u001b[1;33m\u001b[0m\u001b[1;33m\u001b[0m\u001b[0m\n\u001b[0;32m      5\u001b[0m \u001b[1;33m\u001b[0m\u001b[0m\n",
      "\u001b[1;32mC:\\ProgramData\\Anaconda3\\lib\\site-packages\\innvestigate\\analyzer\\__init__.py\u001b[0m in \u001b[0;36m<module>\u001b[1;34m\u001b[0m\n\u001b[0;32m      8\u001b[0m \u001b[1;31m###############################################################################\u001b[0m\u001b[1;33m\u001b[0m\u001b[1;33m\u001b[0m\u001b[0m\n\u001b[0;32m      9\u001b[0m \u001b[1;33m\u001b[0m\u001b[0m\n\u001b[1;32m---> 10\u001b[1;33m \u001b[1;32mfrom\u001b[0m \u001b[1;33m.\u001b[0m\u001b[0mbase\u001b[0m \u001b[1;32mimport\u001b[0m \u001b[0mNotAnalyzeableModelException\u001b[0m\u001b[1;33m\u001b[0m\u001b[1;33m\u001b[0m\u001b[0m\n\u001b[0m\u001b[0;32m     11\u001b[0m \u001b[1;32mfrom\u001b[0m \u001b[1;33m.\u001b[0m\u001b[0mdeeplift\u001b[0m \u001b[1;32mimport\u001b[0m \u001b[0mDeepLIFT\u001b[0m\u001b[1;33m\u001b[0m\u001b[1;33m\u001b[0m\u001b[0m\n\u001b[0;32m     12\u001b[0m \u001b[1;32mfrom\u001b[0m \u001b[1;33m.\u001b[0m\u001b[0mdeeplift\u001b[0m \u001b[1;32mimport\u001b[0m \u001b[0mDeepLIFTWrapper\u001b[0m\u001b[1;33m\u001b[0m\u001b[1;33m\u001b[0m\u001b[0m\n",
      "\u001b[1;32mC:\\ProgramData\\Anaconda3\\lib\\site-packages\\innvestigate\\analyzer\\base.py\u001b[0m in \u001b[0;36m<module>\u001b[1;34m\u001b[0m\n\u001b[0;32m     17\u001b[0m \u001b[1;33m\u001b[0m\u001b[0m\n\u001b[0;32m     18\u001b[0m \u001b[1;33m\u001b[0m\u001b[0m\n\u001b[1;32m---> 19\u001b[1;33m \u001b[1;32mfrom\u001b[0m \u001b[1;33m.\u001b[0m\u001b[1;33m.\u001b[0m \u001b[1;32mimport\u001b[0m \u001b[0mlayers\u001b[0m \u001b[1;32mas\u001b[0m \u001b[0milayers\u001b[0m\u001b[1;33m\u001b[0m\u001b[1;33m\u001b[0m\u001b[0m\n\u001b[0m\u001b[0;32m     20\u001b[0m \u001b[1;32mfrom\u001b[0m \u001b[1;33m.\u001b[0m\u001b[1;33m.\u001b[0m \u001b[1;32mimport\u001b[0m \u001b[0mutils\u001b[0m \u001b[1;32mas\u001b[0m \u001b[0miutils\u001b[0m\u001b[1;33m\u001b[0m\u001b[1;33m\u001b[0m\u001b[0m\n\u001b[0;32m     21\u001b[0m \u001b[1;32mfrom\u001b[0m \u001b[1;33m.\u001b[0m\u001b[1;33m.\u001b[0m\u001b[0mutils\u001b[0m\u001b[1;33m.\u001b[0m\u001b[0mkeras\u001b[0m \u001b[1;32mimport\u001b[0m \u001b[0mchecks\u001b[0m \u001b[1;32mas\u001b[0m \u001b[0mkchecks\u001b[0m\u001b[1;33m\u001b[0m\u001b[1;33m\u001b[0m\u001b[0m\n",
      "\u001b[1;32mC:\\ProgramData\\Anaconda3\\lib\\site-packages\\innvestigate\\layers.py\u001b[0m in \u001b[0;36m<module>\u001b[1;34m\u001b[0m\n\u001b[0;32m     18\u001b[0m \u001b[1;33m\u001b[0m\u001b[0m\n\u001b[0;32m     19\u001b[0m \u001b[1;33m\u001b[0m\u001b[0m\n\u001b[1;32m---> 20\u001b[1;33m \u001b[1;32mfrom\u001b[0m \u001b[1;33m.\u001b[0m \u001b[1;32mimport\u001b[0m \u001b[0mutils\u001b[0m \u001b[1;32mas\u001b[0m \u001b[0miutils\u001b[0m\u001b[1;33m\u001b[0m\u001b[1;33m\u001b[0m\u001b[0m\n\u001b[0m\u001b[0;32m     21\u001b[0m \u001b[1;32mfrom\u001b[0m \u001b[1;33m.\u001b[0m\u001b[0mutils\u001b[0m\u001b[1;33m.\u001b[0m\u001b[0mkeras\u001b[0m \u001b[1;32mimport\u001b[0m \u001b[0mbackend\u001b[0m \u001b[1;32mas\u001b[0m \u001b[0miK\u001b[0m\u001b[1;33m\u001b[0m\u001b[1;33m\u001b[0m\u001b[0m\n\u001b[0;32m     22\u001b[0m \u001b[1;33m\u001b[0m\u001b[0m\n",
      "\u001b[1;32mC:\\ProgramData\\Anaconda3\\lib\\site-packages\\innvestigate\\utils\\__init__.py\u001b[0m in \u001b[0;36m<module>\u001b[1;34m\u001b[0m\n\u001b[0;32m     56\u001b[0m \u001b[1;33m\u001b[0m\u001b[0m\n\u001b[0;32m     57\u001b[0m \u001b[1;33m\u001b[0m\u001b[0m\n\u001b[1;32m---> 58\u001b[1;33m \u001b[1;32mclass\u001b[0m \u001b[0mBatchSequence\u001b[0m\u001b[1;33m(\u001b[0m\u001b[0mkeras\u001b[0m\u001b[1;33m.\u001b[0m\u001b[0mutils\u001b[0m\u001b[1;33m.\u001b[0m\u001b[0mSequence\u001b[0m\u001b[1;33m)\u001b[0m\u001b[1;33m:\u001b[0m\u001b[1;33m\u001b[0m\u001b[1;33m\u001b[0m\u001b[0m\n\u001b[0m\u001b[0;32m     59\u001b[0m     \"\"\"Batch sequence generator.\n\u001b[0;32m     60\u001b[0m \u001b[1;33m\u001b[0m\u001b[0m\n",
      "\u001b[1;31mAttributeError\u001b[0m: module 'keras.utils' has no attribute 'Sequence'"
     ]
    }
   ],
   "source": [
    "import innvestigate\n",
    "\n",
    "modell = model\n",
    "\n",
    "analyzer = innvestigate.create_analyzer(\"gradient\", model)"
   ]
  },
  {
   "cell_type": "code",
   "execution_count": 27,
   "id": "eaa3cb6b",
   "metadata": {},
   "outputs": [
    {
     "name": "stdout",
     "output_type": "stream",
     "text": [
      "3.9.7\n"
     ]
    }
   ],
   "source": []
  },
  {
   "cell_type": "code",
   "execution_count": null,
   "id": "a6648ff0",
   "metadata": {},
   "outputs": [],
   "source": []
  }
 ],
 "metadata": {
  "kernelspec": {
   "display_name": "Python 3 (ipykernel)",
   "language": "python",
   "name": "python3"
  },
  "language_info": {
   "codemirror_mode": {
    "name": "ipython",
    "version": 3
   },
   "file_extension": ".py",
   "mimetype": "text/x-python",
   "name": "python",
   "nbconvert_exporter": "python",
   "pygments_lexer": "ipython3",
   "version": "3.9.7"
  }
 },
 "nbformat": 4,
 "nbformat_minor": 5
}
