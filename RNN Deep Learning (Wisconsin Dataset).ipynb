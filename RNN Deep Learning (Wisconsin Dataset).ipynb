{
 "cells": [
  {
   "cell_type": "code",
   "execution_count": 1,
   "id": "9b4f6781",
   "metadata": {},
   "outputs": [],
   "source": [
    "import pandas as pd\n",
    "import numpy as np\n",
    "\n",
    "import tensorflow as tf\n",
    "from tensorflow import keras \n",
    "from tensorflow.keras import Sequential\n",
    "from tensorflow.keras import layers\n",
    "from tensorflow.keras.layers import LSTM\n",
    "from tensorflow.keras.preprocessing.image import ImageDataGenerator\n",
    "from tensorflow.keras.optimizers import Adam \n",
    "\n",
    "import matplotlib.pyplot as plt\n",
    "\n",
    "from sklearn.model_selection import train_test_split\n",
    "from sklearn.preprocessing import LabelEncoder, StandardScaler"
   ]
  },
  {
   "cell_type": "code",
   "execution_count": 2,
   "id": "1bd5f66b",
   "metadata": {},
   "outputs": [],
   "source": [
    "dataset = pd.read_csv('data.csv')\n",
    "dataset.iloc[:,1] = LabelEncoder().fit_transform(dataset.iloc[:,1].values)"
   ]
  },
  {
   "cell_type": "code",
   "execution_count": 3,
   "id": "4330acae",
   "metadata": {},
   "outputs": [],
   "source": [
    "x_train, x_test, y_train, y_test = train_test_split(dataset.iloc[:,2:31].values,\n",
    "                                                    dataset.iloc[:,1].values,\n",
    "                                                    test_size=0.25,\n",
    "                                                    random_state=0)"
   ]
  },
  {
   "cell_type": "code",
   "execution_count": 4,
   "id": "8b27a145",
   "metadata": {},
   "outputs": [],
   "source": [
    "# Spliting the data into 75% training and 25% test\n",
    "\n",
    "X = dataset.iloc[:,2:31].values\n",
    "Y = dataset.iloc[:,1].values\n",
    "\n",
    "x_train, x_test, y_train, y_test = train_test_split(X, Y, test_size=0.25, random_state=0) # 75% Training 25% test"
   ]
  },
  {
   "cell_type": "code",
   "execution_count": 5,
   "id": "2af670ce",
   "metadata": {},
   "outputs": [
    {
     "name": "stdout",
     "output_type": "stream",
     "text": [
      "(426, 29) (143, 29)\n"
     ]
    }
   ],
   "source": [
    "# Scaling the data\n",
    "\n",
    "sc = StandardScaler()\n",
    "x_train = sc.fit_transform(x_train)\n",
    "x_test = sc.fit_transform(x_test)\n",
    "print(x_train.shape,x_test.shape)"
   ]
  },
  {
   "cell_type": "code",
   "execution_count": 6,
   "id": "2a013b33",
   "metadata": {},
   "outputs": [
    {
     "name": "stdout",
     "output_type": "stream",
     "text": [
      "(426, 29, 1) (143, 29, 1)\n"
     ]
    }
   ],
   "source": [
    "# Reshaping the data for LSTM\n",
    "\n",
    "x_train, x_test = x_train.reshape(426,29,1), x_test.reshape(143,29,1)\n",
    "print(x_train.shape,x_test.shape)"
   ]
  },
  {
   "cell_type": "code",
   "execution_count": 10,
   "id": "94c86150",
   "metadata": {},
   "outputs": [
    {
     "name": "stdout",
     "output_type": "stream",
     "text": [
      "Model: \"sequential_1\"\n",
      "_________________________________________________________________\n",
      " Layer (type)                Output Shape              Param #   \n",
      "=================================================================\n",
      " lstm_4 (LSTM)               (None, 29, 50)            10400     \n",
      "                                                                 \n",
      " dropout_4 (Dropout)         (None, 29, 50)            0         \n",
      "                                                                 \n",
      " lstm_5 (LSTM)               (None, 29, 50)            20200     \n",
      "                                                                 \n",
      " dropout_5 (Dropout)         (None, 29, 50)            0         \n",
      "                                                                 \n",
      " lstm_6 (LSTM)               (None, 29, 50)            20200     \n",
      "                                                                 \n",
      " dropout_6 (Dropout)         (None, 29, 50)            0         \n",
      "                                                                 \n",
      " lstm_7 (LSTM)               (None, 50)                20200     \n",
      "                                                                 \n",
      " dropout_7 (Dropout)         (None, 50)                0         \n",
      "                                                                 \n",
      " dense_1 (Dense)             (None, 1)                 51        \n",
      "                                                                 \n",
      "=================================================================\n",
      "Total params: 71,051\n",
      "Trainable params: 71,051\n",
      "Non-trainable params: 0\n",
      "_________________________________________________________________\n"
     ]
    }
   ],
   "source": [
    "# define model\n",
    "\n",
    "epochs = 50\n",
    "model = keras.models.Sequential()\n",
    "\n",
    "model.add(layers.LSTM(units = 50, return_sequences = True, input_shape = (29,1)))\n",
    "model.add(layers.Dropout(0.2))\n",
    "\n",
    "model.add(layers.LSTM(units = 50, return_sequences = True))\n",
    "model.add(layers.Dropout(0.2))\n",
    "\n",
    "model.add(layers.LSTM(units = 50, return_sequences = True))\n",
    "model.add(layers.Dropout(0.2))\n",
    "\n",
    "model.add(layers.LSTM(units = 50))\n",
    "model.add(layers.Dropout(0.2))\n",
    "\n",
    "model.add(layers.Dense(units = 1))\n",
    "model.summary()"
   ]
  },
  {
   "cell_type": "code",
   "execution_count": 11,
   "id": "c82428d1",
   "metadata": {},
   "outputs": [],
   "source": [
    "# loss and optimizer\n",
    "\n",
    "model.compile(optimizer=Adam(learning_rate=0.00005), loss= 'mean_squared_error', metrics=['accuracy'])"
   ]
  },
  {
   "cell_type": "code",
   "execution_count": 12,
   "id": "0795c949",
   "metadata": {},
   "outputs": [
    {
     "name": "stdout",
     "output_type": "stream",
     "text": [
      "Epoch 1/50\n",
      "14/14 [==============================] - 6s 111ms/step - loss: 0.3500 - accuracy: 0.6268 - val_loss: 0.3311 - val_accuracy: 0.6294\n",
      "Epoch 2/50\n",
      "14/14 [==============================] - 0s 29ms/step - loss: 0.3239 - accuracy: 0.6268 - val_loss: 0.3028 - val_accuracy: 0.6294\n",
      "Epoch 3/50\n",
      "14/14 [==============================] - 0s 31ms/step - loss: 0.2984 - accuracy: 0.6268 - val_loss: 0.2697 - val_accuracy: 0.6294\n",
      "Epoch 4/50\n",
      "14/14 [==============================] - 0s 30ms/step - loss: 0.2654 - accuracy: 0.6315 - val_loss: 0.2302 - val_accuracy: 0.6503\n",
      "Epoch 5/50\n",
      "14/14 [==============================] - 0s 30ms/step - loss: 0.2228 - accuracy: 0.6690 - val_loss: 0.1862 - val_accuracy: 0.7273\n",
      "Epoch 6/50\n",
      "14/14 [==============================] - 0s 33ms/step - loss: 0.1849 - accuracy: 0.7277 - val_loss: 0.1448 - val_accuracy: 0.8112\n",
      "Epoch 7/50\n",
      "14/14 [==============================] - 0s 32ms/step - loss: 0.1493 - accuracy: 0.8005 - val_loss: 0.1227 - val_accuracy: 0.8392\n",
      "Epoch 8/50\n",
      "14/14 [==============================] - 0s 33ms/step - loss: 0.1333 - accuracy: 0.8380 - val_loss: 0.1158 - val_accuracy: 0.8671\n",
      "Epoch 9/50\n",
      "14/14 [==============================] - 0s 32ms/step - loss: 0.1255 - accuracy: 0.8498 - val_loss: 0.1070 - val_accuracy: 0.8811\n",
      "Epoch 10/50\n",
      "14/14 [==============================] - 0s 30ms/step - loss: 0.1169 - accuracy: 0.8592 - val_loss: 0.1008 - val_accuracy: 0.8811\n",
      "Epoch 11/50\n",
      "14/14 [==============================] - 0s 29ms/step - loss: 0.1077 - accuracy: 0.8592 - val_loss: 0.0965 - val_accuracy: 0.8881\n",
      "Epoch 12/50\n",
      "14/14 [==============================] - 0s 32ms/step - loss: 0.1066 - accuracy: 0.8662 - val_loss: 0.0935 - val_accuracy: 0.8811\n",
      "Epoch 13/50\n",
      "14/14 [==============================] - 0s 30ms/step - loss: 0.1032 - accuracy: 0.8638 - val_loss: 0.0908 - val_accuracy: 0.8881\n",
      "Epoch 14/50\n",
      "14/14 [==============================] - 0s 30ms/step - loss: 0.1011 - accuracy: 0.8756 - val_loss: 0.0892 - val_accuracy: 0.8881\n",
      "Epoch 15/50\n",
      "14/14 [==============================] - 0s 30ms/step - loss: 0.1007 - accuracy: 0.8662 - val_loss: 0.0877 - val_accuracy: 0.8881\n",
      "Epoch 16/50\n",
      "14/14 [==============================] - 0s 32ms/step - loss: 0.0922 - accuracy: 0.8873 - val_loss: 0.0864 - val_accuracy: 0.8881\n",
      "Epoch 17/50\n",
      "14/14 [==============================] - 0s 30ms/step - loss: 0.0946 - accuracy: 0.8826 - val_loss: 0.0851 - val_accuracy: 0.8881\n",
      "Epoch 18/50\n",
      "14/14 [==============================] - 0s 36ms/step - loss: 0.0928 - accuracy: 0.8944 - val_loss: 0.0837 - val_accuracy: 0.8881\n",
      "Epoch 19/50\n",
      "14/14 [==============================] - 0s 32ms/step - loss: 0.0912 - accuracy: 0.8873 - val_loss: 0.0819 - val_accuracy: 0.8951\n",
      "Epoch 20/50\n",
      "14/14 [==============================] - 0s 31ms/step - loss: 0.0884 - accuracy: 0.8850 - val_loss: 0.0805 - val_accuracy: 0.8951\n",
      "Epoch 21/50\n",
      "14/14 [==============================] - 0s 33ms/step - loss: 0.0836 - accuracy: 0.8944 - val_loss: 0.0788 - val_accuracy: 0.8951\n",
      "Epoch 22/50\n",
      "14/14 [==============================] - 0s 32ms/step - loss: 0.0837 - accuracy: 0.9061 - val_loss: 0.0767 - val_accuracy: 0.9091\n",
      "Epoch 23/50\n",
      "14/14 [==============================] - 0s 30ms/step - loss: 0.0792 - accuracy: 0.9014 - val_loss: 0.0748 - val_accuracy: 0.9091\n",
      "Epoch 24/50\n",
      "14/14 [==============================] - 0s 30ms/step - loss: 0.0766 - accuracy: 0.9131 - val_loss: 0.0730 - val_accuracy: 0.9091\n",
      "Epoch 25/50\n",
      "14/14 [==============================] - 0s 32ms/step - loss: 0.0757 - accuracy: 0.9085 - val_loss: 0.0706 - val_accuracy: 0.9091\n",
      "Epoch 26/50\n",
      "14/14 [==============================] - 0s 32ms/step - loss: 0.0734 - accuracy: 0.9178 - val_loss: 0.0689 - val_accuracy: 0.8951\n",
      "Epoch 27/50\n",
      "14/14 [==============================] - 0s 30ms/step - loss: 0.0701 - accuracy: 0.9178 - val_loss: 0.0675 - val_accuracy: 0.8951\n",
      "Epoch 28/50\n",
      "14/14 [==============================] - 0s 29ms/step - loss: 0.0658 - accuracy: 0.9249 - val_loss: 0.0653 - val_accuracy: 0.8951\n",
      "Epoch 29/50\n",
      "14/14 [==============================] - 0s 30ms/step - loss: 0.0629 - accuracy: 0.9296 - val_loss: 0.0640 - val_accuracy: 0.8951\n",
      "Epoch 30/50\n",
      "14/14 [==============================] - 1s 36ms/step - loss: 0.0643 - accuracy: 0.9296 - val_loss: 0.0630 - val_accuracy: 0.9021\n",
      "Epoch 31/50\n",
      "14/14 [==============================] - 0s 33ms/step - loss: 0.0644 - accuracy: 0.9225 - val_loss: 0.0623 - val_accuracy: 0.9021\n",
      "Epoch 32/50\n",
      "14/14 [==============================] - 0s 32ms/step - loss: 0.0631 - accuracy: 0.9343 - val_loss: 0.0627 - val_accuracy: 0.9021\n",
      "Epoch 33/50\n",
      "14/14 [==============================] - 0s 31ms/step - loss: 0.0581 - accuracy: 0.9343 - val_loss: 0.0602 - val_accuracy: 0.9021\n",
      "Epoch 34/50\n",
      "14/14 [==============================] - 0s 33ms/step - loss: 0.0596 - accuracy: 0.9249 - val_loss: 0.0614 - val_accuracy: 0.9021\n",
      "Epoch 35/50\n",
      "14/14 [==============================] - 0s 31ms/step - loss: 0.0623 - accuracy: 0.9296 - val_loss: 0.0604 - val_accuracy: 0.9021\n",
      "Epoch 36/50\n",
      "14/14 [==============================] - 0s 30ms/step - loss: 0.0590 - accuracy: 0.9319 - val_loss: 0.0585 - val_accuracy: 0.9161\n",
      "Epoch 37/50\n",
      "14/14 [==============================] - 0s 30ms/step - loss: 0.0560 - accuracy: 0.9437 - val_loss: 0.0602 - val_accuracy: 0.9021\n",
      "Epoch 38/50\n",
      "14/14 [==============================] - 0s 29ms/step - loss: 0.0567 - accuracy: 0.9319 - val_loss: 0.0588 - val_accuracy: 0.8951\n",
      "Epoch 39/50\n",
      "14/14 [==============================] - 0s 29ms/step - loss: 0.0571 - accuracy: 0.9390 - val_loss: 0.0566 - val_accuracy: 0.9301\n",
      "Epoch 40/50\n",
      "14/14 [==============================] - 0s 30ms/step - loss: 0.0573 - accuracy: 0.9319 - val_loss: 0.0591 - val_accuracy: 0.8951\n",
      "Epoch 41/50\n",
      "14/14 [==============================] - 0s 30ms/step - loss: 0.0553 - accuracy: 0.9413 - val_loss: 0.0571 - val_accuracy: 0.9161\n",
      "Epoch 42/50\n",
      "14/14 [==============================] - 0s 30ms/step - loss: 0.0554 - accuracy: 0.9507 - val_loss: 0.0581 - val_accuracy: 0.9161\n",
      "Epoch 43/50\n",
      "14/14 [==============================] - 1s 40ms/step - loss: 0.0571 - accuracy: 0.9437 - val_loss: 0.0570 - val_accuracy: 0.9161\n",
      "Epoch 44/50\n",
      "14/14 [==============================] - 1s 40ms/step - loss: 0.0575 - accuracy: 0.9390 - val_loss: 0.0564 - val_accuracy: 0.9231\n",
      "Epoch 45/50\n",
      "14/14 [==============================] - 1s 40ms/step - loss: 0.0530 - accuracy: 0.9460 - val_loss: 0.0587 - val_accuracy: 0.9161\n",
      "Epoch 46/50\n",
      "14/14 [==============================] - 0s 30ms/step - loss: 0.0536 - accuracy: 0.9437 - val_loss: 0.0554 - val_accuracy: 0.9231\n",
      "Epoch 47/50\n",
      "14/14 [==============================] - 0s 33ms/step - loss: 0.0549 - accuracy: 0.9413 - val_loss: 0.0569 - val_accuracy: 0.9161\n",
      "Epoch 48/50\n",
      "14/14 [==============================] - 0s 31ms/step - loss: 0.0520 - accuracy: 0.9413 - val_loss: 0.0552 - val_accuracy: 0.9231\n",
      "Epoch 49/50\n",
      "14/14 [==============================] - 0s 29ms/step - loss: 0.0538 - accuracy: 0.9437 - val_loss: 0.0574 - val_accuracy: 0.9161\n",
      "Epoch 50/50\n",
      "14/14 [==============================] - 0s 31ms/step - loss: 0.0529 - accuracy: 0.9366 - val_loss: 0.0555 - val_accuracy: 0.9231\n"
     ]
    }
   ],
   "source": [
    "# Training the model\n",
    "\n",
    "history= model.fit(x_train, y_train, epochs=epochs, validation_data=(x_test,y_test),verbose=1)"
   ]
  },
  {
   "cell_type": "code",
   "execution_count": 13,
   "id": "6cfe8dbb",
   "metadata": {},
   "outputs": [],
   "source": [
    "def plot_learningCurve(history, epoch):\n",
    "  #Plot training & validation accuracy values \n",
    "  epoch_range = range(1, epoch+1)\n",
    "  plt.plot(epoch_range, history.history['accuracy'])\n",
    "  plt.plot(epoch_range, history.history['val_accuracy'])\n",
    "  plt.title('Model Accuracy')\n",
    "  plt.ylabel('Accuracy')\n",
    "  plt.xlabel('Epoch')\n",
    "  plt.legend(['Train','Val'], loc='upper left')\n",
    "  plt.show()\n",
    "\n",
    "  #Plot training and validation loss \n",
    "  plt.plot(epoch_range, history.history['loss'])\n",
    "  plt.plot(epoch_range, history.history['val_loss'])\n",
    "  plt.title('Model Loss')\n",
    "  plt.ylabel('Loss')\n",
    "  plt.xlabel('Epoch')\n",
    "  plt.legend(['Train','Val'], loc='upper left')\n",
    "  plt.show()"
   ]
  },
  {
   "cell_type": "code",
   "execution_count": 14,
   "id": "457b7f5b",
   "metadata": {},
   "outputs": [
    {
     "data": {
      "text/plain": [
       "dict_keys(['loss', 'accuracy', 'val_loss', 'val_accuracy'])"
      ]
     },
     "execution_count": 14,
     "metadata": {},
     "output_type": "execute_result"
    }
   ],
   "source": [
    "history.history.keys()"
   ]
  },
  {
   "cell_type": "code",
   "execution_count": 15,
   "id": "8ce7a885",
   "metadata": {},
   "outputs": [
    {
     "name": "stdout",
     "output_type": "stream",
     "text": [
      "3/3 - 0s - loss: 0.0555 - accuracy: 0.9231 - 42ms/epoch - 14ms/step\n"
     ]
    },
    {
     "data": {
      "text/plain": [
       "[0.055478017777204514, 0.9230769276618958]"
      ]
     },
     "execution_count": 15,
     "metadata": {},
     "output_type": "execute_result"
    }
   ],
   "source": [
    "model.evaluate(x_test, y_test, batch_size=64, verbose=2)"
   ]
  },
  {
   "cell_type": "code",
   "execution_count": 16,
   "id": "7ef27a61",
   "metadata": {},
   "outputs": [
    {
     "data": {
      "image/png": "[encoded data removed]",
      "text/plain": [
       "<Figure size 432x288 with 1 Axes>"
      ]
     },
     "metadata": {
      "needs_background": "light"
     },
     "output_type": "display_data"
    },
    {
     "data": {
      "image/png": "[encoded data removed]",
      "text/plain": [
       "<Figure size 432x288 with 1 Axes>"
      ]
     },
     "metadata": {
      "needs_background": "light"
     },
     "output_type": "display_data"
    }
   ],
   "source": [
    "plot_learningCurve(history, epochs)"
   ]
  },
  {
   "cell_type": "code",
   "execution_count": null,
   "id": "b4ab5baa",
   "metadata": {},
   "outputs": [],
   "source": []
  }
 ],
 "metadata": {
  "interpreter": {
   "hash": "e2556e3c8bfd21c32621dab2c61429ee4004b4c77efd1b82bb80d8c4a94d6c44"
  },
  "kernelspec": {
   "display_name": "Python 3 (ipykernel)",
   "language": "python",
   "name": "python3"
  },
  "language_info": {
   "codemirror_mode": {
    "name": "ipython",
    "version": 3
   },
   "file_extension": ".py",
   "mimetype": "text/x-python",
   "name": "python",
   "nbconvert_exporter": "python",
   "pygments_lexer": "ipython3",
   "version": "3.8.8"
  }
 },
 "nbformat": 4,
 "nbformat_minor": 5
}
