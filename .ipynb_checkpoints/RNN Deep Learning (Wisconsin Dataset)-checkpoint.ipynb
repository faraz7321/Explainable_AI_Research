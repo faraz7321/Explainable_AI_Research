{
 "cells": [
  {
   "cell_type": "code",
   "execution_count": 1,
   "id": "9b4f6781",
   "metadata": {},
   "outputs": [],
   "source": [
    "import pandas as pd\n",
    "import numpy as np\n",
    "\n",
    "import tensorflow as tf\n",
    "from tensorflow import keras \n",
    "from tensorflow.keras import Sequential\n",
    "from tensorflow.keras import layers\n",
    "from tensorflow.keras.layers import LSTM\n",
    "from tensorflow.keras.preprocessing.image import ImageDataGenerator\n",
    "from tensorflow.keras.optimizers import Adam \n",
    "\n",
    "import matplotlib.pyplot as plt\n",
    "\n",
    "from sklearn.model_selection import train_test_split\n",
    "from sklearn.preprocessing import LabelEncoder, StandardScaler"
   ]
  },
  {
   "cell_type": "code",
   "execution_count": 2,
   "id": "1bd5f66b",
   "metadata": {},
   "outputs": [],
   "source": [
    "dataset = pd.read_csv('data.csv')\n",
    "dataset.iloc[:,1] = LabelEncoder().fit_transform(dataset.iloc[:,1].values)"
   ]
  },
  {
   "cell_type": "code",
   "execution_count": 3,
   "id": "4330acae",
   "metadata": {},
   "outputs": [],
   "source": [
    "x_train, x_test, y_train, y_test = train_test_split(dataset.iloc[:,2:31].values,\n",
    "                                                    dataset.iloc[:,1].values,\n",
    "                                                    test_size=0.25,\n",
    "                                                    random_state=0)"
   ]
  },
  {
   "cell_type": "code",
   "execution_count": 4,
   "id": "8b27a145",
   "metadata": {},
   "outputs": [],
   "source": [
    "# Spliting the data into 75% training and 25% test\n",
    "\n",
    "X = dataset.iloc[:,2:31].values\n",
    "Y = dataset.iloc[:,1].values\n",
    "\n",
    "x_train, x_test, y_train, y_test = train_test_split(X, Y, test_size=0.25, random_state=0) # 75% Training 25% test"
   ]
  },
  {
   "cell_type": "code",
   "execution_count": 5,
   "id": "2af670ce",
   "metadata": {},
   "outputs": [
    {
     "name": "stdout",
     "output_type": "stream",
     "text": [
      "(426, 29, 1) (143, 29, 1)\n",
      "(455, 29, 1) (114, 29, 1)\n"
     ]
    }
   ],
   "source": [
    "# Scaling the data\n",
    "\n",
    "sc = StandardScaler()\n",
    "x_train = sc.fit_transform(x_train)\n",
    "x_test = sc.fit_transform(x_test)\n",
    "print(x_train.shape,x_test.shape)"
   ]
  },
  {
   "cell_type": "code",
   "execution_count": null,
   "id": "b96145fb",
   "metadata": {},
   "outputs": [],
   "source": [
    "# Reshaping the data for LSTM\n",
    "\n",
    "x_train, x_test = x_train.reshape(426,29,1), x_test.reshape(143,29,1)\n",
    "print(x_train.shape,x_test.shape)"
   ]
  },
  {
   "cell_type": "code",
   "execution_count": 9,
   "id": "94c86150",
   "metadata": {},
   "outputs": [
    {
     "name": "stdout",
     "output_type": "stream",
     "text": [
      "Model: \"sequential_1\"\n",
      "_________________________________________________________________\n",
      " Layer (type)                Output Shape              Param #   \n",
      "=================================================================\n",
      " lstm_4 (LSTM)               (None, 29, 50)            10400     \n",
      "                                                                 \n",
      " dropout_4 (Dropout)         (None, 29, 50)            0         \n",
      "                                                                 \n",
      " lstm_5 (LSTM)               (None, 29, 50)            20200     \n",
      "                                                                 \n",
      " dropout_5 (Dropout)         (None, 29, 50)            0         \n",
      "                                                                 \n",
      " lstm_6 (LSTM)               (None, 29, 50)            20200     \n",
      "                                                                 \n",
      " dropout_6 (Dropout)         (None, 29, 50)            0         \n",
      "                                                                 \n",
      " lstm_7 (LSTM)               (None, 50)                20200     \n",
      "                                                                 \n",
      " dropout_7 (Dropout)         (None, 50)                0         \n",
      "                                                                 \n",
      " dense_1 (Dense)             (None, 1)                 51        \n",
      "                                                                 \n",
      "=================================================================\n",
      "Total params: 71,051\n",
      "Trainable params: 71,051\n",
      "Non-trainable params: 0\n",
      "_________________________________________________________________\n"
     ]
    }
   ],
   "source": [
    "# define model\n",
    "\n",
    "epochs = 50\n",
    "model = keras.models.Sequential()\n",
    "model.add(layers.LSTM(units = 50, return_sequences = True, input_shape = (29,1)))\n",
    "model.add(layers.Dropout(0.2))\n",
    "model.add(layers.LSTM(units = 50, return_sequences = True))\n",
    "model.add(layers.Dropout(0.2))\n",
    "model.add(layers.LSTM(units = 50, return_sequences = True))\n",
    "model.add(layers.Dropout(0.2))\n",
    "model.add(layers.LSTM(units = 50))\n",
    "model.add(layers.Dropout(0.2))\n",
    "model.add(layers.Dense(units = 1))\n",
    "model.summary()"
   ]
  },
  {
   "cell_type": "code",
   "execution_count": 10,
   "id": "c82428d1",
   "metadata": {},
   "outputs": [],
   "source": [
    "# loss and optimizer\n",
    "\n",
    "model.compile(optimizer=Adam(learning_rate=0.00005), loss= 'mean_squared_error', metrics=['accuracy'])\n",
    "#model.compile(optimizer = 'adam', loss = 'mean_squared_error', metrics=['accuracy'])\n",
    "model1 = model"
   ]
  },
  {
   "cell_type": "code",
   "execution_count": 11,
   "id": "0795c949",
   "metadata": {},
   "outputs": [
    {
     "name": "stdout",
     "output_type": "stream",
     "text": [
      "Epoch 1/50\n",
      "14/14 [==============================] - 6s 111ms/step - loss: 0.3797 - accuracy: 0.6268 - val_loss: 0.3256 - val_accuracy: 0.6294\n",
      "Epoch 2/50\n",
      "14/14 [==============================] - 0s 30ms/step - loss: 0.3015 - accuracy: 0.6268 - val_loss: 0.2613 - val_accuracy: 0.6294\n",
      "Epoch 3/50\n",
      "14/14 [==============================] - 0s 30ms/step - loss: 0.2480 - accuracy: 0.6268 - val_loss: 0.2268 - val_accuracy: 0.6294\n",
      "Epoch 4/50\n",
      "14/14 [==============================] - 0s 29ms/step - loss: 0.2295 - accuracy: 0.6315 - val_loss: 0.2169 - val_accuracy: 0.6294\n",
      "Epoch 5/50\n",
      "14/14 [==============================] - 0s 29ms/step - loss: 0.2238 - accuracy: 0.6502 - val_loss: 0.2151 - val_accuracy: 0.6294\n",
      "Epoch 6/50\n",
      "14/14 [==============================] - 0s 30ms/step - loss: 0.2171 - accuracy: 0.6714 - val_loss: 0.2129 - val_accuracy: 0.6294\n",
      "Epoch 7/50\n",
      "14/14 [==============================] - 0s 30ms/step - loss: 0.2147 - accuracy: 0.6808 - val_loss: 0.2106 - val_accuracy: 0.6294\n",
      "Epoch 8/50\n",
      "14/14 [==============================] - 0s 30ms/step - loss: 0.2134 - accuracy: 0.6831 - val_loss: 0.2078 - val_accuracy: 0.6294\n",
      "Epoch 9/50\n",
      "14/14 [==============================] - 0s 30ms/step - loss: 0.2144 - accuracy: 0.6690 - val_loss: 0.2049 - val_accuracy: 0.6294\n",
      "Epoch 10/50\n",
      "14/14 [==============================] - 0s 29ms/step - loss: 0.2095 - accuracy: 0.6690 - val_loss: 0.2016 - val_accuracy: 0.6294\n",
      "Epoch 11/50\n",
      "14/14 [==============================] - 0s 29ms/step - loss: 0.2045 - accuracy: 0.6854 - val_loss: 0.1975 - val_accuracy: 0.6294\n",
      "Epoch 12/50\n",
      "14/14 [==============================] - 0s 32ms/step - loss: 0.2024 - accuracy: 0.6948 - val_loss: 0.1926 - val_accuracy: 0.6364\n",
      "Epoch 13/50\n",
      "14/14 [==============================] - 0s 30ms/step - loss: 0.1925 - accuracy: 0.7277 - val_loss: 0.1866 - val_accuracy: 0.6923\n",
      "Epoch 14/50\n",
      "14/14 [==============================] - 0s 29ms/step - loss: 0.1902 - accuracy: 0.7230 - val_loss: 0.1803 - val_accuracy: 0.6923\n",
      "Epoch 15/50\n",
      "14/14 [==============================] - 0s 29ms/step - loss: 0.1881 - accuracy: 0.7676 - val_loss: 0.1729 - val_accuracy: 0.8811\n",
      "Epoch 16/50\n",
      "14/14 [==============================] - 0s 29ms/step - loss: 0.1811 - accuracy: 0.7488 - val_loss: 0.1642 - val_accuracy: 0.7902\n",
      "Epoch 17/50\n",
      "14/14 [==============================] - 0s 30ms/step - loss: 0.1653 - accuracy: 0.8075 - val_loss: 0.1536 - val_accuracy: 0.9021\n",
      "Epoch 18/50\n",
      "14/14 [==============================] - 0s 30ms/step - loss: 0.1575 - accuracy: 0.8380 - val_loss: 0.1382 - val_accuracy: 0.8811\n",
      "Epoch 19/50\n",
      "14/14 [==============================] - 0s 29ms/step - loss: 0.1444 - accuracy: 0.8357 - val_loss: 0.1223 - val_accuracy: 0.8951\n",
      "Epoch 20/50\n",
      "14/14 [==============================] - 0s 29ms/step - loss: 0.1320 - accuracy: 0.8545 - val_loss: 0.1076 - val_accuracy: 0.8951\n",
      "Epoch 21/50\n",
      "14/14 [==============================] - 0s 30ms/step - loss: 0.1171 - accuracy: 0.8638 - val_loss: 0.0916 - val_accuracy: 0.8951\n",
      "Epoch 22/50\n",
      "14/14 [==============================] - 0s 30ms/step - loss: 0.1045 - accuracy: 0.8850 - val_loss: 0.0866 - val_accuracy: 0.8881\n",
      "Epoch 23/50\n",
      "14/14 [==============================] - 0s 29ms/step - loss: 0.0977 - accuracy: 0.8803 - val_loss: 0.0766 - val_accuracy: 0.8951\n",
      "Epoch 24/50\n",
      "14/14 [==============================] - 0s 30ms/step - loss: 0.0973 - accuracy: 0.8873 - val_loss: 0.0740 - val_accuracy: 0.9021\n",
      "Epoch 25/50\n",
      "14/14 [==============================] - 0s 29ms/step - loss: 0.1009 - accuracy: 0.8826 - val_loss: 0.0752 - val_accuracy: 0.9021\n",
      "Epoch 26/50\n",
      "14/14 [==============================] - 0s 30ms/step - loss: 0.0931 - accuracy: 0.8850 - val_loss: 0.0881 - val_accuracy: 0.9021\n",
      "Epoch 27/50\n",
      "14/14 [==============================] - 0s 30ms/step - loss: 0.1087 - accuracy: 0.8756 - val_loss: 0.0731 - val_accuracy: 0.8951\n",
      "Epoch 28/50\n",
      "14/14 [==============================] - 0s 29ms/step - loss: 0.0968 - accuracy: 0.8850 - val_loss: 0.0770 - val_accuracy: 0.8951\n",
      "Epoch 29/50\n",
      "14/14 [==============================] - 0s 30ms/step - loss: 0.1059 - accuracy: 0.8592 - val_loss: 0.0763 - val_accuracy: 0.8811\n",
      "Epoch 30/50\n",
      "14/14 [==============================] - 0s 30ms/step - loss: 0.1023 - accuracy: 0.8873 - val_loss: 0.0748 - val_accuracy: 0.9021\n",
      "Epoch 31/50\n",
      "14/14 [==============================] - 0s 30ms/step - loss: 0.0992 - accuracy: 0.8756 - val_loss: 0.0778 - val_accuracy: 0.8881\n",
      "Epoch 32/50\n",
      "14/14 [==============================] - 0s 29ms/step - loss: 0.0946 - accuracy: 0.8991 - val_loss: 0.0762 - val_accuracy: 0.8951\n",
      "Epoch 33/50\n",
      "14/14 [==============================] - 0s 29ms/step - loss: 0.0929 - accuracy: 0.8873 - val_loss: 0.0747 - val_accuracy: 0.8881\n",
      "Epoch 34/50\n",
      "14/14 [==============================] - 0s 29ms/step - loss: 0.0949 - accuracy: 0.8826 - val_loss: 0.0742 - val_accuracy: 0.9021\n",
      "Epoch 35/50\n",
      "14/14 [==============================] - 0s 29ms/step - loss: 0.0914 - accuracy: 0.8897 - val_loss: 0.0732 - val_accuracy: 0.9021\n",
      "Epoch 36/50\n",
      "14/14 [==============================] - 0s 29ms/step - loss: 0.0928 - accuracy: 0.8920 - val_loss: 0.0729 - val_accuracy: 0.9021\n",
      "Epoch 37/50\n",
      "14/14 [==============================] - 0s 29ms/step - loss: 0.0910 - accuracy: 0.8826 - val_loss: 0.0754 - val_accuracy: 0.8811\n",
      "Epoch 38/50\n",
      "14/14 [==============================] - 0s 30ms/step - loss: 0.0962 - accuracy: 0.8850 - val_loss: 0.0734 - val_accuracy: 0.9021\n",
      "Epoch 39/50\n",
      "14/14 [==============================] - 0s 30ms/step - loss: 0.0897 - accuracy: 0.8873 - val_loss: 0.0745 - val_accuracy: 0.8811\n",
      "Epoch 40/50\n",
      "14/14 [==============================] - 0s 30ms/step - loss: 0.0956 - accuracy: 0.8991 - val_loss: 0.0726 - val_accuracy: 0.9091\n",
      "Epoch 41/50\n",
      "14/14 [==============================] - 0s 31ms/step - loss: 0.0931 - accuracy: 0.8920 - val_loss: 0.0724 - val_accuracy: 0.8951\n",
      "Epoch 42/50\n",
      "14/14 [==============================] - 0s 30ms/step - loss: 0.0921 - accuracy: 0.8850 - val_loss: 0.0731 - val_accuracy: 0.8951\n",
      "Epoch 43/50\n",
      "14/14 [==============================] - 0s 31ms/step - loss: 0.0983 - accuracy: 0.8944 - val_loss: 0.0724 - val_accuracy: 0.9021\n",
      "Epoch 44/50\n",
      "14/14 [==============================] - 0s 30ms/step - loss: 0.0904 - accuracy: 0.8803 - val_loss: 0.0725 - val_accuracy: 0.9021\n",
      "Epoch 45/50\n",
      "14/14 [==============================] - 0s 30ms/step - loss: 0.0943 - accuracy: 0.8709 - val_loss: 0.0754 - val_accuracy: 0.8951\n",
      "Epoch 46/50\n",
      "14/14 [==============================] - 0s 30ms/step - loss: 0.0929 - accuracy: 0.8850 - val_loss: 0.0736 - val_accuracy: 0.8881\n",
      "Epoch 47/50\n",
      "14/14 [==============================] - 0s 30ms/step - loss: 0.0932 - accuracy: 0.8850 - val_loss: 0.0721 - val_accuracy: 0.9021\n",
      "Epoch 48/50\n",
      "14/14 [==============================] - 0s 30ms/step - loss: 0.0915 - accuracy: 0.9038 - val_loss: 0.0737 - val_accuracy: 0.8881\n",
      "Epoch 49/50\n",
      "14/14 [==============================] - 0s 29ms/step - loss: 0.0888 - accuracy: 0.8944 - val_loss: 0.0724 - val_accuracy: 0.8951\n",
      "Epoch 50/50\n",
      "14/14 [==============================] - 0s 30ms/step - loss: 0.0914 - accuracy: 0.8991 - val_loss: 0.0720 - val_accuracy: 0.9021\n"
     ]
    }
   ],
   "source": [
    "# Training the model\n",
    "\n",
    "history= model.fit(x_train, y_train, epochs=epochs, validation_data=(x_test,y_test),verbose=1)\n",
    "#history = model.fit(x_train, y_train, batch_size = 64, epochs = 50, verbose = 2) # 50 iterations"
   ]
  },
  {
   "cell_type": "code",
   "execution_count": 12,
   "id": "6cfe8dbb",
   "metadata": {},
   "outputs": [],
   "source": [
    "def plot_learningCurve(history, epoch):\n",
    "  #Plot training & validation accuracy values \n",
    "  epoch_range = range(1, epoch+1)\n",
    "  plt.plot(epoch_range, history.history['accuracy'])\n",
    "  plt.plot(epoch_range, history.history['val_accuracy'])\n",
    "  plt.title('Model Accuracy')\n",
    "  plt.ylabel('Accuracy')\n",
    "  plt.xlabel('Epoch')\n",
    "  plt.legend(['Train','Val'], loc='upper left')\n",
    "  plt.show()\n",
    "\n",
    "  #Plot training and validation loss \n",
    "  plt.plot(epoch_range, history.history['loss'])\n",
    "  plt.plot(epoch_range, history.history['val_loss'])\n",
    "  plt.title('Model Loss')\n",
    "  plt.ylabel('Loss')\n",
    "  plt.xlabel('Epoch')\n",
    "  plt.legend(['Train','Val'], loc='upper left')\n",
    "  plt.show()"
   ]
  },
  {
   "cell_type": "code",
   "execution_count": 13,
   "id": "457b7f5b",
   "metadata": {},
   "outputs": [
    {
     "data": {
      "text/plain": [
       "dict_keys(['loss', 'accuracy', 'val_loss', 'val_accuracy'])"
      ]
     },
     "execution_count": 13,
     "metadata": {},
     "output_type": "execute_result"
    }
   ],
   "source": [
    "history.history.keys()"
   ]
  },
  {
   "cell_type": "code",
   "execution_count": 14,
   "id": "8ce7a885",
   "metadata": {},
   "outputs": [
    {
     "name": "stdout",
     "output_type": "stream",
     "text": [
      "3/3 - 0s - loss: 0.0720 - accuracy: 0.9021 - 42ms/epoch - 14ms/step\n"
     ]
    },
    {
     "data": {
      "text/plain": [
       "[0.07200626283884048, 0.9020978808403015]"
      ]
     },
     "execution_count": 14,
     "metadata": {},
     "output_type": "execute_result"
    }
   ],
   "source": [
    "model.evaluate(x_test, y_test, batch_size=64, verbose=2)"
   ]
  },
  {
   "cell_type": "code",
   "execution_count": 15,
   "id": "7ef27a61",
   "metadata": {},
   "outputs": [
    {
     "data": {
      "image/png": "[encoded data removed]",
      "text/plain": [
       "<Figure size 432x288 with 1 Axes>"
      ]
     },
     "metadata": {
      "needs_background": "light"
     },
     "output_type": "display_data"
    },
    {
     "data": {
      "image/png": "[encoded data removed]",
      "text/plain": [
       "<Figure size 432x288 with 1 Axes>"
      ]
     },
     "metadata": {
      "needs_background": "light"
     },
     "output_type": "display_data"
    }
   ],
   "source": [
    "plot_learningCurve(history, epochs)"
   ]
  },
  {
   "cell_type": "code",
   "execution_count": 16,
   "id": "7d39b983",
   "metadata": {},
   "outputs": [
    {
     "name": "stdout",
     "output_type": "stream",
     "text": [
      "Epoch 1/50\n",
      "14/14 [==============================] - 0s 31ms/step - loss: 0.0940 - accuracy: 0.8991 - val_loss: 0.0771 - val_accuracy: 0.8881\n",
      "Epoch 2/50\n",
      "14/14 [==============================] - 0s 30ms/step - loss: 0.0886 - accuracy: 0.8850 - val_loss: 0.0720 - val_accuracy: 0.9021\n",
      "Epoch 3/50\n",
      "14/14 [==============================] - 0s 30ms/step - loss: 0.0956 - accuracy: 0.8826 - val_loss: 0.0724 - val_accuracy: 0.9021\n",
      "Epoch 4/50\n",
      "14/14 [==============================] - 0s 30ms/step - loss: 0.0978 - accuracy: 0.8803 - val_loss: 0.0745 - val_accuracy: 0.8951\n",
      "Epoch 5/50\n",
      "14/14 [==============================] - 0s 30ms/step - loss: 0.0856 - accuracy: 0.9038 - val_loss: 0.0717 - val_accuracy: 0.9021\n",
      "Epoch 6/50\n",
      "14/14 [==============================] - 0s 30ms/step - loss: 0.0888 - accuracy: 0.9061 - val_loss: 0.0717 - val_accuracy: 0.9021\n",
      "Epoch 7/50\n",
      "14/14 [==============================] - 0s 29ms/step - loss: 0.0912 - accuracy: 0.9014 - val_loss: 0.0724 - val_accuracy: 0.8881\n",
      "Epoch 8/50\n",
      "14/14 [==============================] - 0s 30ms/step - loss: 0.0908 - accuracy: 0.8967 - val_loss: 0.0719 - val_accuracy: 0.9021\n",
      "Epoch 9/50\n",
      "14/14 [==============================] - 0s 29ms/step - loss: 0.0853 - accuracy: 0.8991 - val_loss: 0.0722 - val_accuracy: 0.9021\n",
      "Epoch 10/50\n",
      "14/14 [==============================] - 0s 30ms/step - loss: 0.0879 - accuracy: 0.9014 - val_loss: 0.0717 - val_accuracy: 0.9021\n",
      "Epoch 11/50\n",
      "14/14 [==============================] - 0s 30ms/step - loss: 0.0895 - accuracy: 0.8826 - val_loss: 0.0718 - val_accuracy: 0.9021\n",
      "Epoch 12/50\n",
      "14/14 [==============================] - 0s 30ms/step - loss: 0.0828 - accuracy: 0.9155 - val_loss: 0.0723 - val_accuracy: 0.8881\n",
      "Epoch 13/50\n",
      "14/14 [==============================] - 0s 30ms/step - loss: 0.0871 - accuracy: 0.9038 - val_loss: 0.0738 - val_accuracy: 0.8951\n",
      "Epoch 14/50\n",
      "14/14 [==============================] - 0s 30ms/step - loss: 0.0945 - accuracy: 0.8991 - val_loss: 0.0724 - val_accuracy: 0.9021\n",
      "Epoch 15/50\n",
      "14/14 [==============================] - 0s 30ms/step - loss: 0.0925 - accuracy: 0.8920 - val_loss: 0.0728 - val_accuracy: 0.8881\n",
      "Epoch 16/50\n",
      "14/14 [==============================] - 0s 30ms/step - loss: 0.0917 - accuracy: 0.8967 - val_loss: 0.0714 - val_accuracy: 0.9021\n",
      "Epoch 17/50\n",
      "14/14 [==============================] - 0s 30ms/step - loss: 0.0878 - accuracy: 0.8944 - val_loss: 0.0714 - val_accuracy: 0.9091\n",
      "Epoch 18/50\n",
      "14/14 [==============================] - ETA: 0s - loss: 0.0903 - accuracy: 0.89 - 0s 30ms/step - loss: 0.0900 - accuracy: 0.8967 - val_loss: 0.0711 - val_accuracy: 0.9021\n",
      "Epoch 19/50\n",
      "14/14 [==============================] - 0s 30ms/step - loss: 0.0902 - accuracy: 0.8991 - val_loss: 0.0718 - val_accuracy: 0.8951\n",
      "Epoch 20/50\n",
      "14/14 [==============================] - 0s 30ms/step - loss: 0.0894 - accuracy: 0.8991 - val_loss: 0.0710 - val_accuracy: 0.9021\n",
      "Epoch 21/50\n",
      "14/14 [==============================] - 0s 30ms/step - loss: 0.0863 - accuracy: 0.9108 - val_loss: 0.0711 - val_accuracy: 0.9091\n",
      "Epoch 22/50\n",
      "14/14 [==============================] - 0s 30ms/step - loss: 0.0913 - accuracy: 0.9038 - val_loss: 0.0713 - val_accuracy: 0.9021\n",
      "Epoch 23/50\n",
      "14/14 [==============================] - 0s 30ms/step - loss: 0.0889 - accuracy: 0.9038 - val_loss: 0.0712 - val_accuracy: 0.9091\n",
      "Epoch 24/50\n",
      "14/14 [==============================] - 0s 30ms/step - loss: 0.0883 - accuracy: 0.8967 - val_loss: 0.0710 - val_accuracy: 0.9021\n",
      "Epoch 25/50\n",
      "14/14 [==============================] - 0s 30ms/step - loss: 0.0853 - accuracy: 0.9085 - val_loss: 0.0712 - val_accuracy: 0.9021\n",
      "Epoch 26/50\n",
      "14/14 [==============================] - 0s 30ms/step - loss: 0.0876 - accuracy: 0.8944 - val_loss: 0.0707 - val_accuracy: 0.9021\n",
      "Epoch 27/50\n",
      "14/14 [==============================] - 0s 30ms/step - loss: 0.0877 - accuracy: 0.9014 - val_loss: 0.0708 - val_accuracy: 0.9021\n",
      "Epoch 28/50\n",
      "14/14 [==============================] - 0s 30ms/step - loss: 0.0855 - accuracy: 0.9085 - val_loss: 0.0711 - val_accuracy: 0.9021\n",
      "Epoch 29/50\n",
      "14/14 [==============================] - 0s 30ms/step - loss: 0.0864 - accuracy: 0.8991 - val_loss: 0.0715 - val_accuracy: 0.8951\n",
      "Epoch 30/50\n",
      "14/14 [==============================] - 0s 30ms/step - loss: 0.0854 - accuracy: 0.8991 - val_loss: 0.0714 - val_accuracy: 0.9091\n",
      "Epoch 31/50\n",
      "14/14 [==============================] - 0s 30ms/step - loss: 0.0824 - accuracy: 0.8944 - val_loss: 0.0711 - val_accuracy: 0.9091\n",
      "Epoch 32/50\n",
      "14/14 [==============================] - 0s 29ms/step - loss: 0.0867 - accuracy: 0.8920 - val_loss: 0.0710 - val_accuracy: 0.9021\n",
      "Epoch 33/50\n",
      "14/14 [==============================] - 0s 32ms/step - loss: 0.0853 - accuracy: 0.8967 - val_loss: 0.0705 - val_accuracy: 0.9091\n",
      "Epoch 34/50\n",
      "14/14 [==============================] - 0s 31ms/step - loss: 0.0874 - accuracy: 0.8991 - val_loss: 0.0711 - val_accuracy: 0.9091\n",
      "Epoch 35/50\n",
      "14/14 [==============================] - 0s 31ms/step - loss: 0.0889 - accuracy: 0.9038 - val_loss: 0.0714 - val_accuracy: 0.8881\n",
      "Epoch 36/50\n",
      "14/14 [==============================] - 0s 30ms/step - loss: 0.0837 - accuracy: 0.9014 - val_loss: 0.0707 - val_accuracy: 0.9021\n",
      "Epoch 37/50\n",
      "14/14 [==============================] - 0s 30ms/step - loss: 0.0893 - accuracy: 0.8944 - val_loss: 0.0732 - val_accuracy: 0.8951\n",
      "Epoch 38/50\n",
      "14/14 [==============================] - 0s 29ms/step - loss: 0.0899 - accuracy: 0.8944 - val_loss: 0.0704 - val_accuracy: 0.9091\n",
      "Epoch 39/50\n",
      "14/14 [==============================] - 0s 30ms/step - loss: 0.0859 - accuracy: 0.9014 - val_loss: 0.0725 - val_accuracy: 0.8951\n",
      "Epoch 40/50\n",
      "14/14 [==============================] - 0s 30ms/step - loss: 0.0906 - accuracy: 0.8873 - val_loss: 0.0706 - val_accuracy: 0.9021\n",
      "Epoch 41/50\n",
      "14/14 [==============================] - 0s 31ms/step - loss: 0.0906 - accuracy: 0.8897 - val_loss: 0.0719 - val_accuracy: 0.8951\n",
      "Epoch 42/50\n",
      "14/14 [==============================] - 0s 30ms/step - loss: 0.0851 - accuracy: 0.9014 - val_loss: 0.0703 - val_accuracy: 0.9021\n",
      "Epoch 43/50\n",
      "14/14 [==============================] - 0s 30ms/step - loss: 0.0863 - accuracy: 0.9014 - val_loss: 0.0704 - val_accuracy: 0.9091\n",
      "Epoch 44/50\n",
      "14/14 [==============================] - 0s 33ms/step - loss: 0.0865 - accuracy: 0.9014 - val_loss: 0.0703 - val_accuracy: 0.9091\n",
      "Epoch 45/50\n",
      "14/14 [==============================] - 0s 30ms/step - loss: 0.0894 - accuracy: 0.8920 - val_loss: 0.0703 - val_accuracy: 0.9091\n",
      "Epoch 46/50\n",
      "14/14 [==============================] - 0s 30ms/step - loss: 0.0852 - accuracy: 0.9061 - val_loss: 0.0700 - val_accuracy: 0.9091\n",
      "Epoch 47/50\n",
      "14/14 [==============================] - 0s 33ms/step - loss: 0.0884 - accuracy: 0.8944 - val_loss: 0.0716 - val_accuracy: 0.8951\n",
      "Epoch 48/50\n",
      "14/14 [==============================] - 0s 30ms/step - loss: 0.0889 - accuracy: 0.8991 - val_loss: 0.0704 - val_accuracy: 0.8951\n",
      "Epoch 49/50\n",
      "14/14 [==============================] - 0s 30ms/step - loss: 0.0863 - accuracy: 0.8967 - val_loss: 0.0700 - val_accuracy: 0.9091\n",
      "Epoch 50/50\n",
      "14/14 [==============================] - 0s 30ms/step - loss: 0.0901 - accuracy: 0.8897 - val_loss: 0.0700 - val_accuracy: 0.9091\n"
     ]
    }
   ],
   "source": [
    "history1 = model1.fit(x_train, y_train, epochs=epochs, validation_data=(x_test,y_test),verbose=1)"
   ]
  },
  {
   "cell_type": "code",
   "execution_count": 17,
   "id": "d76666a1",
   "metadata": {},
   "outputs": [
    {
     "data": {
      "text/plain": [
       "dict_keys(['loss', 'accuracy', 'val_loss', 'val_accuracy'])"
      ]
     },
     "execution_count": 17,
     "metadata": {},
     "output_type": "execute_result"
    }
   ],
   "source": [
    "history1.history.keys()"
   ]
  },
  {
   "cell_type": "code",
   "execution_count": 18,
   "id": "20f02f19",
   "metadata": {},
   "outputs": [
    {
     "name": "stdout",
     "output_type": "stream",
     "text": [
      "2/2 - 0s - loss: 0.0755 - accuracy: 0.9035 - 38ms/epoch - 19ms/step\n"
     ]
    },
    {
     "data": {
      "text/plain": [
       "[0.0755133330821991, 0.9035087823867798]"
      ]
     },
     "execution_count": 18,
     "metadata": {},
     "output_type": "execute_result"
    }
   ],
   "source": [
    "model1.evaluate(x_test1, y_test1, batch_size=64, verbose=2)"
   ]
  },
  {
   "cell_type": "code",
   "execution_count": 19,
   "id": "176af172",
   "metadata": {},
   "outputs": [
    {
     "data": {
      "image/png": "[encoded data removed]",
      "text/plain": [
       "<Figure size 432x288 with 1 Axes>"
      ]
     },
     "metadata": {
      "needs_background": "light"
     },
     "output_type": "display_data"
    },
    {
     "data": {
      "image/png": "[encoded data removed]",
      "text/plain": [
       "<Figure size 432x288 with 1 Axes>"
      ]
     },
     "metadata": {
      "needs_background": "light"
     },
     "output_type": "display_data"
    }
   ],
   "source": [
    "plot_learningCurve(history, epochs)"
   ]
  },
  {
   "cell_type": "code",
   "execution_count": null,
   "id": "31c14c6c",
   "metadata": {},
   "outputs": [],
   "source": []
  },
  {
   "cell_type": "code",
   "execution_count": null,
   "id": "01c6165c",
   "metadata": {},
   "outputs": [],
   "source": []
  },
  {
   "cell_type": "code",
   "execution_count": null,
   "id": "9131b368",
   "metadata": {},
   "outputs": [],
   "source": []
  },
  {
   "cell_type": "code",
   "execution_count": null,
   "id": "e3426d70",
   "metadata": {},
   "outputs": [],
   "source": []
  },
  {
   "cell_type": "code",
   "execution_count": null,
   "id": "4fbed1a8",
   "metadata": {},
   "outputs": [],
   "source": []
  }
 ],
 "metadata": {
  "interpreter": {
   "hash": "e2556e3c8bfd21c32621dab2c61429ee4004b4c77efd1b82bb80d8c4a94d6c44"
  },
  "kernelspec": {
   "display_name": "Python 3 (ipykernel)",
   "language": "python",
   "name": "python3"
  },
  "language_info": {
   "codemirror_mode": {
    "name": "ipython",
    "version": 3
   },
   "file_extension": ".py",
   "mimetype": "text/x-python",
   "name": "python",
   "nbconvert_exporter": "python",
   "pygments_lexer": "ipython3",
   "version": "3.8.8"
  }
 },
 "nbformat": 4,
 "nbformat_minor": 5
}
